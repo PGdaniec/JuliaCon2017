{
 "cells": [
  {
   "cell_type": "markdown",
   "metadata": {},
   "source": [
    "# generating a large random network topology"
   ]
  },
  {
   "cell_type": "code",
   "execution_count": 1,
   "metadata": {},
   "outputs": [
    {
     "data": {
      "text/plain": [
       "gentopo (generic function with 1 method)"
      ]
     },
     "execution_count": 1,
     "metadata": {},
     "output_type": "execute_result"
    }
   ],
   "source": [
    "using Random\n",
    "# naive approach: \n",
    "function gentopo(n,k,seed)\n",
    "    p = k/(n-1)\n",
    "    rng = MersenneTwister(seed);\n",
    "    rand(rng,n,n) .< p\n",
    "end"
   ]
  },
  {
   "cell_type": "code",
   "execution_count": 2,
   "metadata": {},
   "outputs": [
    {
     "data": {
      "text/plain": [
       "50×50 BitArray{2}:\n",
       " false  false   true  false  false  …   true  false   true  false   true\n",
       " false  false  false  false  false      true  false  false  false  false\n",
       " false  false  false   true  false     false  false  false  false   true\n",
       "  true  false  false  false  false     false   true  false   true  false\n",
       " false   true   true  false  false     false  false  false   true   true\n",
       " false  false  false  false  false  …  false  false  false   true  false\n",
       " false   true  false   true   true     false   true   true  false  false\n",
       " false  false  false  false  false     false  false   true   true  false\n",
       " false  false  false  false   true     false  false  false  false   true\n",
       " false  false  false  false  false     false  false   true   true  false\n",
       " false  false  false  false  false  …  false  false   true  false  false\n",
       " false  false  false   true  false     false  false  false  false  false\n",
       " false  false   true  false  false      true  false  false  false  false\n",
       "     ⋮                              ⋱      ⋮                            \n",
       "  true  false  false  false  false     false  false  false  false  false\n",
       " false  false  false  false  false     false  false  false  false  false\n",
       " false  false  false  false  false  …  false  false  false  false  false\n",
       " false  false  false  false  false     false  false  false  false  false\n",
       " false  false  false  false  false      true  false  false  false  false\n",
       " false   true  false   true  false      true  false  false   true  false\n",
       "  true   true  false  false  false     false  false  false  false  false\n",
       " false  false   true  false  false  …  false   true   true  false  false\n",
       " false   true   true  false  false     false  false  false  false  false\n",
       " false  false  false  false  false      true   true   true   true   true\n",
       " false  false  false  false   true     false  false  false  false  false\n",
       " false  false  false  false  false     false  false  false   true   true"
      ]
     },
     "execution_count": 2,
     "metadata": {},
     "output_type": "execute_result"
    }
   ],
   "source": [
    "n = 50 # number of neurons\n",
    "k = 10 # number of synapses per neuron\n",
    "seed = 1\n",
    "A = gentopo(n,k,seed)"
   ]
  },
  {
   "cell_type": "code",
   "execution_count": 4,
   "metadata": {},
   "outputs": [
    {
     "data": {
      "text/plain": [
       "50-element BitArray{1}:\n",
       " false\n",
       " false\n",
       " false\n",
       "  true\n",
       " false\n",
       "  true\n",
       " false\n",
       " false\n",
       " false\n",
       "  true\n",
       " false\n",
       "  true\n",
       " false\n",
       "     ⋮\n",
       " false\n",
       " false\n",
       " false\n",
       " false\n",
       "  true\n",
       " false\n",
       " false\n",
       " false\n",
       " false\n",
       " false\n",
       " false\n",
       "  true"
      ]
     },
     "execution_count": 4,
     "metadata": {},
     "output_type": "execute_result"
    }
   ],
   "source": [
    "j = 17 # example spiking neuron\n",
    "post = A[:,j]"
   ]
  },
  {
   "cell_type": "markdown",
   "metadata": {},
   "source": [
    " ### using sparse matrices"
   ]
  },
  {
   "cell_type": "code",
   "execution_count": 5,
   "metadata": {},
   "outputs": [
    {
     "data": {
      "text/plain": [
       "gensparsetopo (generic function with 1 method)"
      ]
     },
     "execution_count": 5,
     "metadata": {},
     "output_type": "execute_result"
    }
   ],
   "source": [
    "using SparseArrays\n",
    "# needs less memory (n*k instead of n^2)\n",
    "function gensparsetopo(n,k,seed)\n",
    "    rng = MersenneTwister(seed);\n",
    "    p = k/(n-1)\n",
    "    A = sprand(Bool,n,n,p)\n",
    "end"
   ]
  },
  {
   "cell_type": "code",
   "execution_count": 6,
   "metadata": {},
   "outputs": [
    {
     "data": {
      "text/plain": [
       "50×50 SparseMatrixCSC{Bool,Int64} with 527 stored entries:\n",
       "  [5 ,  1]  =  true\n",
       "  [25,  1]  =  true\n",
       "  [30,  1]  =  true\n",
       "  [31,  1]  =  true\n",
       "  [32,  1]  =  true\n",
       "  [34,  1]  =  true\n",
       "  [48,  1]  =  true\n",
       "  [49,  1]  =  true\n",
       "  [7 ,  2]  =  true\n",
       "  [10,  2]  =  true\n",
       "  [12,  2]  =  true\n",
       "  [14,  2]  =  true\n",
       "  ⋮\n",
       "  [41, 49]  =  true\n",
       "  [50, 49]  =  true\n",
       "  [1 , 50]  =  true\n",
       "  [4 , 50]  =  true\n",
       "  [5 , 50]  =  true\n",
       "  [7 , 50]  =  true\n",
       "  [9 , 50]  =  true\n",
       "  [16, 50]  =  true\n",
       "  [28, 50]  =  true\n",
       "  [37, 50]  =  true\n",
       "  [46, 50]  =  true\n",
       "  [50, 50]  =  true"
      ]
     },
     "execution_count": 6,
     "metadata": {},
     "output_type": "execute_result"
    }
   ],
   "source": [
    "Asparse = gensparsetopo(n,k,seed)"
   ]
  },
  {
   "cell_type": "code",
   "execution_count": 7,
   "metadata": {},
   "outputs": [
    {
     "data": {
      "text/plain": [
       "50-element BitArray{1}:\n",
       " false\n",
       " false\n",
       " false\n",
       "  true\n",
       " false\n",
       "  true\n",
       " false\n",
       " false\n",
       " false\n",
       "  true\n",
       " false\n",
       "  true\n",
       " false\n",
       "     ⋮\n",
       " false\n",
       " false\n",
       " false\n",
       " false\n",
       "  true\n",
       " false\n",
       " false\n",
       " false\n",
       " false\n",
       " false\n",
       " false\n",
       "  true"
      ]
     },
     "execution_count": 7,
     "metadata": {},
     "output_type": "execute_result"
    }
   ],
   "source": [
    "j = 17 # example spiking neuron\n",
    "post = A[:,j]"
   ]
  },
  {
   "cell_type": "markdown",
   "metadata": {},
   "source": [
    "### generating network topology on the fly"
   ]
  },
  {
   "cell_type": "code",
   "execution_count": 8,
   "metadata": {},
   "outputs": [
    {
     "data": {
      "text/plain": [
       "10-element Array{Int64,1}:\n",
       " 32\n",
       " 43\n",
       " 26\n",
       " 24\n",
       " 15\n",
       "  8\n",
       " 42\n",
       " 49\n",
       "  2\n",
       " 12"
      ]
     },
     "execution_count": 8,
     "metadata": {},
     "output_type": "execute_result"
    }
   ],
   "source": [
    "# no need to store network topology of size n*k\n",
    "using StatsBase\n",
    "j = 18\n",
    "mt_rng = MersenneTwister(j)\n",
    "post = sample(1:n-1,k) # generate postsynaptic neuron index"
   ]
  },
  {
   "cell_type": "markdown",
   "metadata": {},
   "source": [
    "###### bottleneck: seeding the random number generator"
   ]
  },
  {
   "cell_type": "code",
   "execution_count": 9,
   "metadata": {},
   "outputs": [
    {
     "name": "stdout",
     "output_type": "stream",
     "text": [
      "  11.705 μs (2 allocations: 112 bytes)\n"
     ]
    }
   ],
   "source": [
    "using BenchmarkTools\n",
    "mt = MersenneTwister(seed)\n",
    "@btime Random.seed!(mt,1);"
   ]
  },
  {
   "cell_type": "markdown",
   "metadata": {},
   "source": [
    "###### Solution: using faster random number generator"
   ]
  },
  {
   "cell_type": "code",
   "execution_count": 10,
   "metadata": {},
   "outputs": [
    {
     "name": "stdout",
     "output_type": "stream",
     "text": [
      "  18.879 ns (0 allocations: 0 bytes)\n"
     ]
    }
   ],
   "source": [
    "using RandomNumbers.Xorshifts\n",
    "r = Xoroshiro128Star(seed)\n",
    "@btime Random.seed!(r,1);"
   ]
  },
  {
   "cell_type": "code",
   "execution_count": null,
   "metadata": {},
   "outputs": [],
   "source": []
  }
 ],
 "metadata": {
  "kernelspec": {
   "display_name": "Julia 1.0.1",
   "language": "julia",
   "name": "julia-1.0"
  },
  "language_info": {
   "file_extension": ".jl",
   "mimetype": "application/julia",
   "name": "julia",
   "version": "1.0.1"
  }
 },
 "nbformat": 4,
 "nbformat_minor": 2
}
