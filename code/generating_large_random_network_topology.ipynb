{
 "cells": [
  {
   "cell_type": "markdown",
   "metadata": {},
   "source": [
    "# generating a large random network topology"
   ]
  },
  {
   "cell_type": "code",
   "execution_count": 12,
   "metadata": {},
   "outputs": [
    {
     "data": {
      "text/plain": [
       "gentopo (generic function with 1 method)"
      ]
     },
     "execution_count": 12,
     "metadata": {},
     "output_type": "execute_result"
    }
   ],
   "source": [
    "using Random\n",
    "# naive approach: \n",
    "function gentopo(n,k,seed)\n",
    "    p = k/(n-1)\n",
    "    rng = MersenneTwister(seed);\n",
    "    rand(rng,n,n) .< p\n",
    "end"
   ]
  },
  {
   "cell_type": "code",
   "execution_count": 13,
   "metadata": {},
   "outputs": [
    {
     "data": {
      "text/plain": [
       "50×50 BitArray{2}:\n",
       " false  false   true  false  false  …   true  false   true  false   true\n",
       " false  false  false  false  false      true  false  false  false  false\n",
       " false  false  false   true  false     false  false  false  false   true\n",
       "  true  false  false  false  false     false   true  false   true  false\n",
       " false   true   true  false  false     false  false  false   true   true\n",
       " false  false  false  false  false  …  false  false  false   true  false\n",
       " false   true  false   true   true     false   true   true  false  false\n",
       " false  false  false  false  false     false  false   true   true  false\n",
       " false  false  false  false   true     false  false  false  false   true\n",
       " false  false  false  false  false     false  false   true   true  false\n",
       " false  false  false  false  false  …  false  false   true  false  false\n",
       " false  false  false   true  false     false  false  false  false  false\n",
       " false  false   true  false  false      true  false  false  false  false\n",
       "     ⋮                              ⋱      ⋮                            \n",
       "  true  false  false  false  false     false  false  false  false  false\n",
       " false  false  false  false  false     false  false  false  false  false\n",
       " false  false  false  false  false  …  false  false  false  false  false\n",
       " false  false  false  false  false     false  false  false  false  false\n",
       " false  false  false  false  false      true  false  false  false  false\n",
       " false   true  false   true  false      true  false  false   true  false\n",
       "  true   true  false  false  false     false  false  false  false  false\n",
       " false  false   true  false  false  …  false   true   true  false  false\n",
       " false   true   true  false  false     false  false  false  false  false\n",
       " false  false  false  false  false      true   true   true   true   true\n",
       " false  false  false  false   true     false  false  false  false  false\n",
       " false  false  false  false  false     false  false  false   true   true"
      ]
     },
     "execution_count": 13,
     "metadata": {},
     "output_type": "execute_result"
    }
   ],
   "source": [
    "n = 50 # number of neurons\n",
    "k = 10 # number of synapses per neuron\n",
    "seed = 1\n",
    "A = gentopo(n,k,seed)"
   ]
  },
  {
   "cell_type": "code",
   "execution_count": 14,
   "metadata": {},
   "outputs": [
    {
     "data": {
      "text/plain": [
       "50-element BitArray{1}:\n",
       " false\n",
       " false\n",
       " false\n",
       "  true\n",
       " false\n",
       "  true\n",
       " false\n",
       " false\n",
       " false\n",
       "  true\n",
       " false\n",
       "  true\n",
       " false\n",
       "     ⋮\n",
       " false\n",
       " false\n",
       " false\n",
       " false\n",
       "  true\n",
       " false\n",
       " false\n",
       " false\n",
       " false\n",
       " false\n",
       " false\n",
       "  true"
      ]
     },
     "execution_count": 14,
     "metadata": {},
     "output_type": "execute_result"
    }
   ],
   "source": [
    "j = 17 # example spiking neuron\n",
    "post = A[:,j]"
   ]
  },
  {
   "cell_type": "markdown",
   "metadata": {},
   "source": [
    " ### using sparse matrices"
   ]
  },
  {
   "cell_type": "code",
   "execution_count": 21,
   "metadata": {},
   "outputs": [
    {
     "data": {
      "text/plain": [
       "gensparsetopo (generic function with 1 method)"
      ]
     },
     "execution_count": 21,
     "metadata": {},
     "output_type": "execute_result"
    }
   ],
   "source": [
    "using SparseArrays\n",
    "# needs less memory (n*k instead of n^2)\n",
    "function gensparsetopo(n,k,seed)\n",
    "    rng = MersenneTwister(seed);\n",
    "    p = k/(n-1)\n",
    "    A = sprand(Bool,n,n,p)\n",
    "end"
   ]
  },
  {
   "cell_type": "code",
   "execution_count": 22,
   "metadata": {},
   "outputs": [
    {
     "data": {
      "text/plain": [
       "50×50 SparseMatrixCSC{Bool,Int64} with 526 stored entries:\n",
       "  [1 ,  1]  =  true\n",
       "  [5 ,  1]  =  true\n",
       "  [6 ,  1]  =  true\n",
       "  [8 ,  1]  =  true\n",
       "  [9 ,  1]  =  true\n",
       "  [12,  1]  =  true\n",
       "  [20,  1]  =  true\n",
       "  [24,  1]  =  true\n",
       "  [30,  1]  =  true\n",
       "  [32,  1]  =  true\n",
       "  [33,  1]  =  true\n",
       "  [34,  1]  =  true\n",
       "  ⋮\n",
       "  [1 , 50]  =  true\n",
       "  [7 , 50]  =  true\n",
       "  [11, 50]  =  true\n",
       "  [14, 50]  =  true\n",
       "  [15, 50]  =  true\n",
       "  [18, 50]  =  true\n",
       "  [25, 50]  =  true\n",
       "  [27, 50]  =  true\n",
       "  [28, 50]  =  true\n",
       "  [36, 50]  =  true\n",
       "  [41, 50]  =  true\n",
       "  [43, 50]  =  true"
      ]
     },
     "execution_count": 22,
     "metadata": {},
     "output_type": "execute_result"
    }
   ],
   "source": [
    "Asparse = gensparsetopo(n,k,seed)"
   ]
  },
  {
   "cell_type": "code",
   "execution_count": 23,
   "metadata": {},
   "outputs": [
    {
     "data": {
      "text/plain": [
       "50-element BitArray{1}:\n",
       " false\n",
       " false\n",
       " false\n",
       "  true\n",
       " false\n",
       "  true\n",
       " false\n",
       " false\n",
       " false\n",
       "  true\n",
       " false\n",
       "  true\n",
       " false\n",
       "     ⋮\n",
       " false\n",
       " false\n",
       " false\n",
       " false\n",
       "  true\n",
       " false\n",
       " false\n",
       " false\n",
       " false\n",
       " false\n",
       " false\n",
       "  true"
      ]
     },
     "execution_count": 23,
     "metadata": {},
     "output_type": "execute_result"
    }
   ],
   "source": [
    "j = 17 # example spiking neuron\n",
    "post = A[:,j]"
   ]
  },
  {
   "cell_type": "markdown",
   "metadata": {},
   "source": [
    "### generating network topology on the fly"
   ]
  },
  {
   "cell_type": "code",
   "execution_count": 25,
   "metadata": {},
   "outputs": [
    {
     "data": {
      "text/plain": [
       "10-element Array{Int64,1}:\n",
       " 15\n",
       " 10\n",
       "  6\n",
       " 23\n",
       " 15\n",
       " 39\n",
       " 31\n",
       " 48\n",
       " 26\n",
       " 18"
      ]
     },
     "execution_count": 25,
     "metadata": {},
     "output_type": "execute_result"
    }
   ],
   "source": [
    "# no need to store network topology of size n*k\n",
    "using StatsBase\n",
    "j = 18\n",
    "mt_rng = MersenneTwister(j)\n",
    "post = sample(1:n-1,k) # generate postsynaptic neuron index"
   ]
  },
  {
   "cell_type": "markdown",
   "metadata": {},
   "source": [
    "###### bottleneck: seeding the random number generator"
   ]
  },
  {
   "cell_type": "code",
   "execution_count": 28,
   "metadata": {},
   "outputs": [
    {
     "name": "stdout",
     "output_type": "stream",
     "text": [
      "  11.327 μs (2 allocations: 112 bytes)\n"
     ]
    }
   ],
   "source": [
    "using BenchmarkTools\n",
    "mt = MersenneTwister(seed)\n",
    "@btime Random.seed!(mt,1);"
   ]
  },
  {
   "cell_type": "markdown",
   "metadata": {},
   "source": [
    "###### Solution: using faster random number generator"
   ]
  },
  {
   "cell_type": "code",
   "execution_count": 29,
   "metadata": {},
   "outputs": [
    {
     "name": "stdout",
     "output_type": "stream",
     "text": [
      "  18.501 ns (0 allocations: 0 bytes)\n"
     ]
    }
   ],
   "source": [
    "using RandomNumbers.Xorshifts\n",
    "r = Xoroshiro128Star(seed)\n",
    "@btime Random.seed!(r,1);"
   ]
  },
  {
   "cell_type": "code",
   "execution_count": null,
   "metadata": {},
   "outputs": [],
   "source": []
  }
 ],
 "metadata": {
  "kernelspec": {
   "display_name": "Julia 1.0.1",
   "language": "julia",
   "name": "julia-1.0"
  },
  "language_info": {
   "file_extension": ".jl",
   "mimetype": "application/julia",
   "name": "julia",
   "version": "1.0.1"
  }
 },
 "nbformat": 4,
 "nbformat_minor": 2
}
